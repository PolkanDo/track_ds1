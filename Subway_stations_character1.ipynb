{
 "cells": [
  {
   "cell_type": "code",
   "execution_count": 42,
   "metadata": {},
   "outputs": [],
   "source": [
    "import json"
   ]
  },
  {
   "cell_type": "code",
   "execution_count": 43,
   "metadata": {
    "scrolled": true
   },
   "outputs": [],
   "source": [
    "file = 'D:\\PROJECTS\\learnPython\\\\track_dc_2\\data-stations.json'\n",
    "with open(file, 'r', encoding='cp1251') as f:\n",
    "    stations = json.load(f)"
   ]
  },
  {
   "cell_type": "code",
   "execution_count": 44,
   "metadata": {},
   "outputs": [],
   "source": [
    "#print(stations)\n",
    "list_of_stations = []"
   ]
  },
  {
   "cell_type": "code",
   "execution_count": 45,
   "metadata": {},
   "outputs": [],
   "source": [
    "for station in stations:\n",
    "    if station['RepairOfEscalators']:\n",
    "        if station['NameOfStation'] not in list_of_stations:\n",
    "            list_of_stations.append(station['NameOfStation'])"
   ]
  },
  {
   "cell_type": "code",
   "execution_count": 46,
   "metadata": {},
   "outputs": [
    {
     "name": "stdout",
     "output_type": "stream",
     "text": [
      "Китай-город\n",
      "Белорусская\n",
      "Киевская\n",
      "Водный стадион\n",
      "Добрынинская\n",
      "Красные ворота\n",
      "Октябрьская\n",
      "Орехово\n",
      "Марксистская\n",
      "Ленинский проспект\n",
      "Маяковская\n",
      "Парк Победы\n",
      "Международная\n",
      "Пражская\n",
      "Царицыно\n",
      "Строгино\n",
      "Сухаревская\n",
      "Сходненская\n",
      "Черкизовская\n",
      "Таганская\n",
      "Текстильщики\n",
      "Электрозаводская\n",
      "Арбатская\n",
      "Рязанский проспект\n",
      "Авиамоторная\n",
      "ЦСКА\n"
     ]
    }
   ],
   "source": [
    "for st in list_of_stations:\n",
    "    print(st)"
   ]
  },
  {
   "cell_type": "code",
   "execution_count": null,
   "metadata": {},
   "outputs": [],
   "source": []
  }
 ],
 "metadata": {
  "kernelspec": {
   "display_name": "Python 3",
   "language": "python",
   "name": "python3"
  },
  "language_info": {
   "codemirror_mode": {
    "name": "ipython",
    "version": 3
   },
   "file_extension": ".py",
   "mimetype": "text/x-python",
   "name": "python",
   "nbconvert_exporter": "python",
   "pygments_lexer": "ipython3",
   "version": "3.7.7"
  }
 },
 "nbformat": 4,
 "nbformat_minor": 4
}
